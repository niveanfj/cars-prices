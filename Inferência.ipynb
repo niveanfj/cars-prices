{
 "cells": [
  {
   "cell_type": "markdown",
   "id": "155cf2a7",
   "metadata": {},
   "source": [
    "### Notebook de Inferência do Modelo"
   ]
  },
  {
   "cell_type": "markdown",
   "id": "92dd9e9b",
   "metadata": {},
   "source": [
    "#### Objetivo:\n",
    "    Realizar a inferência do modelo utilizando o MLFLOW."
   ]
  },
  {
   "cell_type": "markdown",
   "id": "d574dbe3",
   "metadata": {},
   "source": [
    "Importando as bibliotecas necessarias:"
   ]
  },
  {
   "cell_type": "code",
   "execution_count": 1,
   "id": "b01e66d4",
   "metadata": {},
   "outputs": [],
   "source": [
    "import mlflow\n",
    "import pandas as pd"
   ]
  },
  {
   "cell_type": "markdown",
   "id": "887179ca",
   "metadata": {},
   "source": [
    "Importar o modelo:"
   ]
  },
  {
   "cell_type": "code",
   "execution_count": 2,
   "id": "651cf623",
   "metadata": {},
   "outputs": [],
   "source": [
    "logged_model = 'runs:/3eaad2a519f149d8a1834aba444dab43/lr'\n",
    "loaded_model = mlflow.pyfunc.load_model(logged_model)"
   ]
  },
  {
   "cell_type": "markdown",
   "id": "e7575aa5",
   "metadata": {},
   "source": [
    "Importando os dados para predição:"
   ]
  },
  {
   "cell_type": "code",
   "execution_count": 3,
   "id": "5353a17a",
   "metadata": {},
   "outputs": [
    {
     "data": {
      "text/html": [
       "<div>\n",
       "<style scoped>\n",
       "    .dataframe tbody tr th:only-of-type {\n",
       "        vertical-align: middle;\n",
       "    }\n",
       "\n",
       "    .dataframe tbody tr th {\n",
       "        vertical-align: top;\n",
       "    }\n",
       "\n",
       "    .dataframe thead th {\n",
       "        text-align: right;\n",
       "    }\n",
       "</style>\n",
       "<table border=\"1\" class=\"dataframe\">\n",
       "  <thead>\n",
       "    <tr style=\"text-align: right;\">\n",
       "      <th></th>\n",
       "      <th>symboling</th>\n",
       "      <th>normalized-losses</th>\n",
       "      <th>make</th>\n",
       "      <th>fuel-type</th>\n",
       "      <th>aspiration</th>\n",
       "      <th>num-of-doors</th>\n",
       "      <th>body-style</th>\n",
       "      <th>drive-wheels</th>\n",
       "      <th>engine-location</th>\n",
       "      <th>wheel-base</th>\n",
       "      <th>...</th>\n",
       "      <th>num-of-cylinders</th>\n",
       "      <th>engine-size</th>\n",
       "      <th>fuel-system</th>\n",
       "      <th>bore</th>\n",
       "      <th>stroke</th>\n",
       "      <th>compression-ratio</th>\n",
       "      <th>horsepower</th>\n",
       "      <th>peak-rpm</th>\n",
       "      <th>city-mpg</th>\n",
       "      <th>highway-mpg</th>\n",
       "    </tr>\n",
       "  </thead>\n",
       "  <tbody>\n",
       "    <tr>\n",
       "      <th>0</th>\n",
       "      <td>0</td>\n",
       "      <td>NaN</td>\n",
       "      <td>isuzu</td>\n",
       "      <td>gas</td>\n",
       "      <td>std</td>\n",
       "      <td>four</td>\n",
       "      <td>sedan</td>\n",
       "      <td>rwd</td>\n",
       "      <td>front</td>\n",
       "      <td>94.3</td>\n",
       "      <td>...</td>\n",
       "      <td>four</td>\n",
       "      <td>111</td>\n",
       "      <td>2bbl</td>\n",
       "      <td>3.31</td>\n",
       "      <td>3.23</td>\n",
       "      <td>8.5</td>\n",
       "      <td>78</td>\n",
       "      <td>4800</td>\n",
       "      <td>24</td>\n",
       "      <td>17</td>\n",
       "    </tr>\n",
       "    <tr>\n",
       "      <th>1</th>\n",
       "      <td>2</td>\n",
       "      <td>NaN</td>\n",
       "      <td>isuzu</td>\n",
       "      <td>gas</td>\n",
       "      <td>std</td>\n",
       "      <td>two</td>\n",
       "      <td>hatchback</td>\n",
       "      <td>rwd</td>\n",
       "      <td>front</td>\n",
       "      <td>96.0</td>\n",
       "      <td>...</td>\n",
       "      <td>four</td>\n",
       "      <td>119</td>\n",
       "      <td>spfi</td>\n",
       "      <td>3.43</td>\n",
       "      <td>3.23</td>\n",
       "      <td>9.2</td>\n",
       "      <td>90</td>\n",
       "      <td>5000</td>\n",
       "      <td>24</td>\n",
       "      <td>19</td>\n",
       "    </tr>\n",
       "    <tr>\n",
       "      <th>2</th>\n",
       "      <td>0</td>\n",
       "      <td>145.0</td>\n",
       "      <td>jaguar</td>\n",
       "      <td>gas</td>\n",
       "      <td>std</td>\n",
       "      <td>four</td>\n",
       "      <td>sedan</td>\n",
       "      <td>rwd</td>\n",
       "      <td>front</td>\n",
       "      <td>113.0</td>\n",
       "      <td>...</td>\n",
       "      <td>six</td>\n",
       "      <td>258</td>\n",
       "      <td>mpfi</td>\n",
       "      <td>3.63</td>\n",
       "      <td>4.17</td>\n",
       "      <td>8.1</td>\n",
       "      <td>176</td>\n",
       "      <td>4750</td>\n",
       "      <td>15</td>\n",
       "      <td>29</td>\n",
       "    </tr>\n",
       "    <tr>\n",
       "      <th>3</th>\n",
       "      <td>0</td>\n",
       "      <td>NaN</td>\n",
       "      <td>jaguar</td>\n",
       "      <td>gas</td>\n",
       "      <td>std</td>\n",
       "      <td>four</td>\n",
       "      <td>sedan</td>\n",
       "      <td>rwd</td>\n",
       "      <td>front</td>\n",
       "      <td>113.0</td>\n",
       "      <td>...</td>\n",
       "      <td>six</td>\n",
       "      <td>258</td>\n",
       "      <td>mpfi</td>\n",
       "      <td>3.63</td>\n",
       "      <td>4.17</td>\n",
       "      <td>8.1</td>\n",
       "      <td>176</td>\n",
       "      <td>4750</td>\n",
       "      <td>15</td>\n",
       "      <td>17</td>\n",
       "    </tr>\n",
       "    <tr>\n",
       "      <th>4</th>\n",
       "      <td>0</td>\n",
       "      <td>NaN</td>\n",
       "      <td>jaguar</td>\n",
       "      <td>gas</td>\n",
       "      <td>std</td>\n",
       "      <td>two</td>\n",
       "      <td>sedan</td>\n",
       "      <td>rwd</td>\n",
       "      <td>front</td>\n",
       "      <td>102.0</td>\n",
       "      <td>...</td>\n",
       "      <td>twelve</td>\n",
       "      <td>326</td>\n",
       "      <td>mpfi</td>\n",
       "      <td>3.54</td>\n",
       "      <td>2.76</td>\n",
       "      <td>11.5</td>\n",
       "      <td>262</td>\n",
       "      <td>5000</td>\n",
       "      <td>13</td>\n",
       "      <td>19</td>\n",
       "    </tr>\n",
       "    <tr>\n",
       "      <th>5</th>\n",
       "      <td>1</td>\n",
       "      <td>104.0</td>\n",
       "      <td>mazda</td>\n",
       "      <td>gas</td>\n",
       "      <td>std</td>\n",
       "      <td>two</td>\n",
       "      <td>hatchback</td>\n",
       "      <td>fwd</td>\n",
       "      <td>front</td>\n",
       "      <td>93.1</td>\n",
       "      <td>...</td>\n",
       "      <td>four</td>\n",
       "      <td>91</td>\n",
       "      <td>2bbl</td>\n",
       "      <td>3.03</td>\n",
       "      <td>3.15</td>\n",
       "      <td>9.0</td>\n",
       "      <td>68</td>\n",
       "      <td>5000</td>\n",
       "      <td>30</td>\n",
       "      <td>38</td>\n",
       "    </tr>\n",
       "    <tr>\n",
       "      <th>6</th>\n",
       "      <td>1</td>\n",
       "      <td>104.0</td>\n",
       "      <td>mazda</td>\n",
       "      <td>gas</td>\n",
       "      <td>std</td>\n",
       "      <td>two</td>\n",
       "      <td>hatchback</td>\n",
       "      <td>fwd</td>\n",
       "      <td>front</td>\n",
       "      <td>93.1</td>\n",
       "      <td>...</td>\n",
       "      <td>four</td>\n",
       "      <td>91</td>\n",
       "      <td>2bbl</td>\n",
       "      <td>3.03</td>\n",
       "      <td>3.15</td>\n",
       "      <td>9.0</td>\n",
       "      <td>68</td>\n",
       "      <td>5000</td>\n",
       "      <td>31</td>\n",
       "      <td>31</td>\n",
       "    </tr>\n",
       "  </tbody>\n",
       "</table>\n",
       "<p>7 rows × 25 columns</p>\n",
       "</div>"
      ],
      "text/plain": [
       "   symboling  normalized-losses    make fuel-type aspiration num-of-doors  \\\n",
       "0          0                NaN   isuzu       gas        std         four   \n",
       "1          2                NaN   isuzu       gas        std          two   \n",
       "2          0              145.0  jaguar       gas        std         four   \n",
       "3          0                NaN  jaguar       gas        std         four   \n",
       "4          0                NaN  jaguar       gas        std          two   \n",
       "5          1              104.0   mazda       gas        std          two   \n",
       "6          1              104.0   mazda       gas        std          two   \n",
       "\n",
       "  body-style drive-wheels engine-location  wheel-base  ...  num-of-cylinders  \\\n",
       "0      sedan          rwd           front        94.3  ...              four   \n",
       "1  hatchback          rwd           front        96.0  ...              four   \n",
       "2      sedan          rwd           front       113.0  ...               six   \n",
       "3      sedan          rwd           front       113.0  ...               six   \n",
       "4      sedan          rwd           front       102.0  ...            twelve   \n",
       "5  hatchback          fwd           front        93.1  ...              four   \n",
       "6  hatchback          fwd           front        93.1  ...              four   \n",
       "\n",
       "   engine-size  fuel-system  bore stroke compression-ratio  horsepower  \\\n",
       "0          111         2bbl  3.31   3.23               8.5          78   \n",
       "1          119         spfi  3.43   3.23               9.2          90   \n",
       "2          258         mpfi  3.63   4.17               8.1         176   \n",
       "3          258         mpfi  3.63   4.17               8.1         176   \n",
       "4          326         mpfi  3.54   2.76              11.5         262   \n",
       "5           91         2bbl  3.03   3.15               9.0          68   \n",
       "6           91         2bbl  3.03   3.15               9.0          68   \n",
       "\n",
       "  peak-rpm  city-mpg  highway-mpg  \n",
       "0     4800        24           17  \n",
       "1     5000        24           19  \n",
       "2     4750        15           29  \n",
       "3     4750        15           17  \n",
       "4     5000        13           19  \n",
       "5     5000        30           38  \n",
       "6     5000        31           31  \n",
       "\n",
       "[7 rows x 25 columns]"
      ]
     },
     "execution_count": 3,
     "metadata": {},
     "output_type": "execute_result"
    }
   ],
   "source": [
    "data = pd.read_csv('/home/pc/Task_0/automobile_x.csv')\n",
    "data"
   ]
  },
  {
   "cell_type": "code",
   "execution_count": 5,
   "id": "be242c35",
   "metadata": {},
   "outputs": [],
   "source": [
    "data = data.apply(pd.to_numeric, errors='coerce')\n",
    "data.fillna(0, inplace=True)"
   ]
  },
  {
   "cell_type": "markdown",
   "id": "0b14759d",
   "metadata": {},
   "source": [
    "Calculando predicted:"
   ]
  },
  {
   "cell_type": "code",
   "execution_count": 6,
   "id": "2fc12c03",
   "metadata": {},
   "outputs": [],
   "source": [
    "predicted = loaded_model.predict(data)"
   ]
  },
  {
   "cell_type": "markdown",
   "id": "f485a3e5",
   "metadata": {},
   "source": [
    "Inserindo a coluna de preços na tabela:"
   ]
  },
  {
   "cell_type": "code",
   "execution_count": 10,
   "id": "24234a7b",
   "metadata": {},
   "outputs": [],
   "source": [
    "data['price'] = predicted"
   ]
  },
  {
   "cell_type": "markdown",
   "id": "94a8b6f7",
   "metadata": {},
   "source": [
    "Mostrando a coluna com os preços estimados:"
   ]
  },
  {
   "cell_type": "code",
   "execution_count": 14,
   "id": "e79ca39e",
   "metadata": {},
   "outputs": [
    {
     "data": {
      "text/plain": [
       "0     3103.185751\n",
       "1     9418.370093\n",
       "2    32920.995740\n",
       "3    31708.272156\n",
       "4    48671.794847\n",
       "5     6258.389526\n",
       "6     4781.350509\n",
       "Name: price, dtype: float64"
      ]
     },
     "execution_count": 14,
     "metadata": {},
     "output_type": "execute_result"
    }
   ],
   "source": [
    "data['price']"
   ]
  }
 ],
 "metadata": {
  "kernelspec": {
   "display_name": "Python 3 (ipykernel)",
   "language": "python",
   "name": "python3"
  },
  "language_info": {
   "codemirror_mode": {
    "name": "ipython",
    "version": 3
   },
   "file_extension": ".py",
   "mimetype": "text/x-python",
   "name": "python",
   "nbconvert_exporter": "python",
   "pygments_lexer": "ipython3",
   "version": "3.8.10"
  }
 },
 "nbformat": 4,
 "nbformat_minor": 5
}
